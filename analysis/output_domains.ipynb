{
 "cells": [
  {
   "cell_type": "markdown",
   "id": "feb0623d-1f98-4f35-88c0-32cd1f17723a",
   "metadata": {},
   "source": [
    "# Domain output for hail study"
   ]
  },
  {
   "cell_type": "code",
   "execution_count": 1,
   "id": "a1983570-f0c5-4b12-854a-9e6201a413bf",
   "metadata": {},
   "outputs": [
    {
     "name": "stdout",
     "output_type": "stream",
     "text": [
      "/home/561/tr2908/git/hist_future_hail\n"
     ]
    }
   ],
   "source": [
    "%cd ~/git/hist_future_hail/"
   ]
  },
  {
   "cell_type": "code",
   "execution_count": 2,
   "id": "e59c35ec-b6b6-4b71-a645-50b34e990cc1",
   "metadata": {},
   "outputs": [],
   "source": [
    "import matplotlib.pyplot as plt\n",
    "import modules.hist_fut_hail as hf\n",
    "import numpy as np\n",
    "import pandas as pd\n",
    "import xarray\n",
    "from dask.distributed import Client"
   ]
  },
  {
   "cell_type": "markdown",
   "id": "91d10c1a-affb-4ac9-a8a1-0cfb04b435eb",
   "metadata": {},
   "source": [
    "## Settings"
   ]
  },
  {
   "cell_type": "code",
   "execution_count": 3,
   "id": "7c6f2d18-27d0-4a72-819a-9c38455cf8f5",
   "metadata": {},
   "outputs": [],
   "source": [
    "base_dir = '/g/data/up6/tr2908/hist_future_hail/'  # Data base directory.\n",
    "hist_years = np.arange(1980, 1999)  # Historical years.\n",
    "fut_years = np.arange(2080, 2100)  # Future years.\n",
    "sims_dir = f'{base_dir}/WRF_v4.4/simulations/cities/'  # Simulation directory.\n",
    "data_dir = f'{base_dir}/xu_data'  # Xu et al. data directory.\n",
    "plt.show()  # Start the plotting engine.\n",
    "plt.rcParams['font.size'] = 12  # Font size for plots.\n",
    "plt.rcParams['axes.formatter.useoffset'] = False  # Don't use offsets in plots."
   ]
  },
  {
   "cell_type": "code",
   "execution_count": null,
   "id": "9cc8c7ec-00bc-4a9b-aa63-aff39bbd3f2a",
   "metadata": {
    "tags": []
   },
   "outputs": [],
   "source": [
    "client = Client(threads_per_worker=1, n_workers=10)\n",
    "client"
   ]
  },
  {
   "cell_type": "markdown",
   "id": "b9b5c899-88a5-4c28-bb0d-d69f316d9e33",
   "metadata": {},
   "source": [
    "## Environment"
   ]
  },
  {
   "cell_type": "code",
   "execution_count": null,
   "id": "0c3d1378-5bf0-498a-882b-7222e60b2a92",
   "metadata": {},
   "outputs": [
    {
     "name": "stdout",
     "output_type": "stream",
     "text": [
      "Currently Loaded Modulefiles:\u001b[m\n",
      " 1) \u001b[4mconda/analysis3-24.04\u001b[0m\u001b[2m(\u001b[22m\u001b[95manalysis\u001b[0m\u001b[2m:\u001b[22m\u001b[95manalysis3\u001b[0m\u001b[2m)\u001b[22m   2) R/4.3.1   3) pbs  \u001b[m\n",
      "\u001b[K\u001b[?1l\u001b>"
     ]
    }
   ],
   "source": [
    "!module list"
   ]
  },
  {
   "cell_type": "code",
   "execution_count": null,
   "id": "b5ed5bd7-8223-4405-9670-d6427d3fab62",
   "metadata": {},
   "outputs": [
    {
     "name": "stdout",
     "output_type": "stream",
     "text": [
      "Python 3.10.14\n"
     ]
    }
   ],
   "source": [
    "!python --version"
   ]
  },
  {
   "cell_type": "code",
   "execution_count": null,
   "id": "2c2ff793",
   "metadata": {},
   "outputs": [],
   "source": [
    "wps_files={\n",
    "    f'{base_dir}/WRF_v4.4/simulations/cities/ssp245/2080-2081/WPS/geo_em.d03.nc': ('solid', 'blue'), # Perth\n",
    "    f'{base_dir}/WRF_v4.4/simulations/cities/ssp245/2080-2081/WPS/geo_em.d05.nc': ('solid', 'blue'), # Melbourne\n",
    "    f'{base_dir}/WRF_v4.4/simulations/cities/ssp245/2080-2081/WPS/geo_em.d06.nc': ('solid', 'blue'), # Brisbane\n",
    "    f'{base_dir}/WRF_v4.4/simulations/cities/ssp245/2080-2081/WPS/geo_em.d07.nc': ('solid', 'blue'), # Sydney/Canberra\n",
    "    f'{base_dir}/WRF_v4.4/simulations/remote/ssp245/2080-2081/WPS/geo_em.d03.nc': ('solid', 'blue'), # Kalgoorlie\n",
    "    f'{base_dir}/WRF_v4.4/simulations/remote/ssp245/2080-2081/WPS/geo_em.d05.nc': ('solid', 'blue'), # Adelaide\n",
    "}\n",
    "\n",
    "dom_files = list(wps_files.keys())\n",
    "doms = [xarray.open_dataset(x) for x in dom_files]"
   ]
  },
  {
   "cell_type": "code",
   "execution_count": null,
   "id": "7fc48eef",
   "metadata": {},
   "outputs": [],
   "source": [
    "names = ['Perth', 'Melbourne', 'Brisbane', 'Sydney/Canberra', 'Kalgoorlie', 'Adelaide']\n",
    "\n",
    "points = pd.DataFrame()\n",
    "\n",
    "for dom, name in zip(doms, names):\n",
    "    x = dom.XLONG_M.isel(Time=0)\n",
    "    y = dom.XLAT_M.isel(Time=0)\n",
    "\n",
    "    d = xarray.Dataset({'longitude': x, 'latitude': y})\n",
    "    d = d.to_dataframe().reset_index().drop(columns=['south_north', 'west_east'])\n",
    "    d['domain'] = name\n",
    "\n",
    "    points = pd.concat([points, d])"
   ]
  },
  {
   "cell_type": "code",
   "execution_count": null,
   "id": "b7dc58c8",
   "metadata": {},
   "outputs": [],
   "source": []
  }
 ],
 "metadata": {
  "kernelspec": {
   "display_name": "analysis3-24.04",
   "language": "python",
   "name": "python3"
  },
  "language_info": {
   "codemirror_mode": {
    "name": "ipython",
    "version": 3
   },
   "file_extension": ".py",
   "mimetype": "text/x-python",
   "name": "python",
   "nbconvert_exporter": "python",
   "pygments_lexer": "ipython3",
   "version": "3.10.14"
  }
 },
 "nbformat": 4,
 "nbformat_minor": 5
}
