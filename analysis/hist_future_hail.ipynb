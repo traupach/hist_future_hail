{
 "cells": [
  {
   "cell_type": "markdown",
   "id": "feb0623d-1f98-4f35-88c0-32cd1f17723a",
   "metadata": {},
   "source": [
    "# Historical and future simulation of hailstorms in Australia"
   ]
  },
  {
   "cell_type": "code",
   "execution_count": 1,
   "id": "a1983570-f0c5-4b12-854a-9e6201a413bf",
   "metadata": {},
   "outputs": [
    {
     "name": "stdout",
     "output_type": "stream",
     "text": [
      "/home/561/tr2908/git/hist_future_hail\n"
     ]
    }
   ],
   "source": [
    "%cd git/hist_future_hail/"
   ]
  },
  {
   "cell_type": "code",
   "execution_count": 2,
   "id": "e59c35ec-b6b6-4b71-a645-50b34e990cc1",
   "metadata": {},
   "outputs": [],
   "source": [
    "import modules.hist_fut_hail as hf\n",
    "from importlib import reload\n",
    "import numpy as np"
   ]
  },
  {
   "cell_type": "markdown",
   "id": "91d10c1a-affb-4ac9-a8a1-0cfb04b435eb",
   "metadata": {},
   "source": [
    "## Settings"
   ]
  },
  {
   "cell_type": "code",
   "execution_count": 3,
   "id": "7c6f2d18-27d0-4a72-819a-9c38455cf8f5",
   "metadata": {},
   "outputs": [],
   "source": [
    "base_dir = '/g/data/up6/tr2908/hist_future_hail/'   # Data base directory.\n",
    "hist_years = np.arange(1989,2009)                   # Historical years.\n",
    "fut_years = np.arange(2079,2099)                    # Future years.\n",
    "wrf_template_dir = f'{base_dir}/WRF_v4.4/template/' # Template directory for WRF/WPS setups.\n",
    "sims_dir = f'{base_dir}/WRF_v4.4/simulations'       # Simulation directory."
   ]
  },
  {
   "cell_type": "markdown",
   "id": "3ed97524-396e-4074-bd31-2b0a47688772",
   "metadata": {},
   "source": [
    "## Input data\n",
    "\n",
    "Write scripts that can be run to download all the boundary condition data.\n",
    "\n",
    "WRF boundary conditions are supplied from [Xu et al., 2021](https://www.nature.com/articles/s41597-021-01079-3) (data are CC-BY-4.0):\n",
    "\n",
    "- Publication: https://www.nature.com/articles/s41597-021-01079-3\n",
    "- Data archive: https://www.scidb.cn/en/detail?dataSetId=791587189614968832"
   ]
  },
  {
   "cell_type": "code",
   "execution_count": null,
   "id": "adb109de-7ef6-4a98-b534-b997d25ef866",
   "metadata": {},
   "outputs": [],
   "source": [
    "# hf.gen_download_script(years=hist_years, out_file=f'{base_dir}/xu_data/hist/download_hist.sh')\n",
    "# hf.gen_download_script(years=fut_years, out_file=f'{base_dir}/xu_data/ssp245/download_hist.sh')"
   ]
  },
  {
   "cell_type": "markdown",
   "id": "097a33bc-b96c-4e10-a8a9-9d28ede0ebbe",
   "metadata": {},
   "source": [
    "## WRF setup"
   ]
  },
  {
   "cell_type": "code",
   "execution_count": 8,
   "id": "c82bb9b9-e0d1-4841-843a-f355e03e2dc7",
   "metadata": {},
   "outputs": [
    {
     "data": {
      "text/plain": [
       "<module 'modules.hist_fut_hail' from '/home/561/tr2908/git/hist_future_hail/modules/hist_fut_hail.py'>"
      ]
     },
     "execution_count": 8,
     "metadata": {},
     "output_type": "execute_result"
    }
   ],
   "source": [
    "reload(hf)"
   ]
  },
  {
   "cell_type": "code",
   "execution_count": 10,
   "id": "3e0b7c82-edc7-41ec-9287-856dd8d9e0ce",
   "metadata": {},
   "outputs": [
    {
     "name": "stdout",
     "output_type": "stream",
     "text": [
      "Skipping existing WPS...\n"
     ]
    }
   ],
   "source": [
    "hf.set_up_WRF(year=1989, template_dir=wrf_template_dir, sims_dir=sims_dir, exp='hist')"
   ]
  },
  {
   "cell_type": "code",
   "execution_count": null,
   "id": "9169c3d6-ff50-4b42-9cd2-76784d9bfc7b",
   "metadata": {},
   "outputs": [],
   "source": [
    "import xarray"
   ]
  },
  {
   "cell_type": "code",
   "execution_count": null,
   "id": "fce6cc17-54e7-45ba-9bca-1f47320d2b9f",
   "metadata": {},
   "outputs": [],
   "source": [
    "foo = xarray.open_dataset('/g/data/w42/tr2908/pv_hailswaths/mesh/radar_57_annual_max_mesh.nc')"
   ]
  },
  {
   "cell_type": "code",
   "execution_count": null,
   "id": "90435d40-bfed-41ce-9c31-5c3712f7b278",
   "metadata": {
    "tags": []
   },
   "outputs": [],
   "source": [
    "foo.isel(year=5).mesh.plot()"
   ]
  },
  {
   "cell_type": "code",
   "execution_count": null,
   "id": "d47569ac-6663-49df-979f-5a1bede2a692",
   "metadata": {},
   "outputs": [],
   "source": []
  }
 ],
 "metadata": {
  "kernelspec": {
   "display_name": "Python [conda env:analysis3-unstable]",
   "language": "python",
   "name": "conda-env-analysis3-unstable-py"
  },
  "language_info": {
   "codemirror_mode": {
    "name": "ipython",
    "version": 3
   },
   "file_extension": ".py",
   "mimetype": "text/x-python",
   "name": "python",
   "nbconvert_exporter": "python",
   "pygments_lexer": "ipython3",
   "version": "3.9.15"
  }
 },
 "nbformat": 4,
 "nbformat_minor": 5
}
