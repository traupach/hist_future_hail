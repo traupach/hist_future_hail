{
 "cells": [
  {
   "cell_type": "markdown",
   "id": "145d0cd9-12e6-4670-a558-f60c2112876b",
   "metadata": {},
   "source": [
    "## Settings"
   ]
  },
  {
   "cell_type": "code",
   "execution_count": 33,
   "id": "171cb280-a970-4771-80f4-f432e9203dc4",
   "metadata": {
    "vscode": {
     "languageId": "r"
    }
   },
   "outputs": [],
   "source": [
    "setwd(\"~/git/hist_future_hail/\")                             # Working directory.\n",
    "source(\"modules/gev_functions.R\")                            # Load helper functions.\n",
    "variables = c(\"hailcast_diam_max\", \"wind_10m\")               # Variables to process.\n",
    "results_dir = \"/g/data/up6/tr2908/hist_future_hail/results/\" # Results directory.\n",
    "set.seed(42)                                                 # Random seed for reproducibility."
   ]
  },
  {
   "cell_type": "markdown",
   "id": "0b3334f4-1866-4013-a187-d5c1dcb49136",
   "metadata": {},
   "source": [
    "## Read in data"
   ]
  },
  {
   "cell_type": "code",
   "execution_count": 34,
   "id": "fb81d5f0-1214-4063-b151-085b32acdf6c",
   "metadata": {
    "vscode": {
     "languageId": "r"
    }
   },
   "outputs": [
    {
     "name": "stdout",
     "output_type": "stream",
     "text": [
      "[1] \"/g/data/up6/tr2908/hist_future_hail/results//Brisbane_hist_block_maxima.feather\"\n",
      "[1] \"/g/data/up6/tr2908/hist_future_hail/results//Brisbane_ssp245_block_maxima.feather\"\n",
      "[1] \"/g/data/up6/tr2908/hist_future_hail/results//Melbourne_hist_block_maxima.feather\"\n",
      "[1] \"/g/data/up6/tr2908/hist_future_hail/results//Melbourne_ssp245_block_maxima.feather\"\n",
      "[1] \"/g/data/up6/tr2908/hist_future_hail/results//Perth_hist_block_maxima.feather\"\n",
      "[1] \"/g/data/up6/tr2908/hist_future_hail/results//Perth_ssp245_block_maxima.feather\"\n",
      "[1] \"/g/data/up6/tr2908/hist_future_hail/results//Sydney_Canberra_hist_block_maxima.feather\"\n",
      "[1] \"/g/data/up6/tr2908/hist_future_hail/results//Sydney_Canberra_ssp245_block_maxima.feather\"\n"
     ]
    }
   ],
   "source": [
    "all_dat = read_feathers(results_dir = results_dir)"
   ]
  },
  {
   "cell_type": "markdown",
   "id": "2a745fc2-28f4-489d-a57e-c0982039bec2",
   "metadata": {},
   "source": [
    "## Timeseries of maxima\n",
    "\n",
    "First the timeseries of daily hail diameter maxima."
   ]
  },
  {
   "cell_type": "code",
   "execution_count": 35,
   "id": "25481263-093b-4d6f-8d56-a6a85532606d",
   "metadata": {
    "vscode": {
     "languageId": "r"
    }
   },
   "outputs": [],
   "source": [
    "options(repr.plot.width = 13, repr.plot.height = 12)\n",
    "plot_ts(\n",
    "    dat = all_dat, ylabel = \"Max daily hail diameter [mm]\", var = \"hailcast_diam_max\",\n",
    "    file = \"paper/figures/timeseries_hail.pdf\"\n",
    ")"
   ]
  },
  {
   "cell_type": "code",
   "execution_count": null,
   "id": "798e64dd",
   "metadata": {
    "vscode": {
     "languageId": "r"
    }
   },
   "outputs": [],
   "source": [
    "plot_ts(\n",
    "    dat = all_dat, ylabel = \"Max daily 10 m wind [m/s]\", var = \"wind_10m\",\n",
    "    file = \"paper/figures/timeseries_wind.pdf\"\n",
    ")"
   ]
  },
  {
   "cell_type": "markdown",
   "id": "eca1a86c-73ae-4c59-a89f-b30aeb775181",
   "metadata": {},
   "source": [
    "## GEV fitting"
   ]
  },
  {
   "cell_type": "code",
   "execution_count": null,
   "id": "04a17f09",
   "metadata": {
    "vscode": {
     "languageId": "r"
    }
   },
   "outputs": [],
   "source": [
    "gev_fits = fit_gevs(all_dat = all_dat)"
   ]
  },
  {
   "cell_type": "code",
   "execution_count": null,
   "id": "77c25461",
   "metadata": {
    "vscode": {
     "languageId": "r"
    }
   },
   "outputs": [],
   "source": [
    "options(repr.plot.width = 15, repr.plot.height = 8)\n",
    "plot_params(gev_fits = gev_fits, file = \"paper/figures/fit_params.pdf\")"
   ]
  },
  {
   "cell_type": "code",
   "execution_count": null,
   "id": "6964bba6-6e39-4602-a3e7-a19edba1227f",
   "metadata": {
    "vscode": {
     "languageId": "r"
    }
   },
   "outputs": [],
   "source": [
    "options(repr.plot.width = 15, repr.plot.height = 8)\n",
    "plot_ks_fits(gev_fits = gev_fits, file = \"paper/figures/fit_pvals.pdf\")"
   ]
  },
  {
   "cell_type": "code",
   "execution_count": null,
   "id": "6a7d079a-224d-4657-95f2-e4b36dbfdd2d",
   "metadata": {
    "vscode": {
     "languageId": "r"
    }
   },
   "outputs": [],
   "source": [
    "options(repr.plot.width = 15, repr.plot.height = 8)\n",
    "plot_quantiles(gev_fits = gev_fits, var = \"hailcast_diam_max\", unit = \"mm\", file = \"paper/figures/qq_hail.pdf\")"
   ]
  },
  {
   "cell_type": "code",
   "execution_count": null,
   "id": "afc8b7d8-7928-455d-b9a3-02b8fb4da3d0",
   "metadata": {
    "vscode": {
     "languageId": "r"
    }
   },
   "outputs": [],
   "source": [
    "plot_quantiles(gev_fits = gev_fits, var = \"wind_10m\", unit = \"m~s^{-1}\", file = \"paper/figures/qq_wind.pdf\")"
   ]
  },
  {
   "cell_type": "code",
   "execution_count": null,
   "id": "90af0353-6388-4dab-b855-b5eaa006ac6f",
   "metadata": {
    "vscode": {
     "languageId": "r"
    }
   },
   "outputs": [],
   "source": [
    "options(repr.plot.width = 15, repr.plot.height = 4)\n",
    "plot_return_levels(\n",
    "    gev_fits = gev_fits, var = \"hailcast_diam_max\",\n",
    "    varname = \"Max~hail~size~group('[',mm,']')\", file = \"paper/figures/return_periods_hail.pdf\"\n",
    ")"
   ]
  },
  {
   "cell_type": "code",
   "execution_count": null,
   "id": "87bd6982",
   "metadata": {
    "vscode": {
     "languageId": "r"
    }
   },
   "outputs": [],
   "source": [
    "options(repr.plot.width = 15, repr.plot.height = 4)\n",
    "plot_return_levels(\n",
    "    gev_fits = gev_fits, var = \"wind_10m\",\n",
    "    varname = \"10~m~wind~group('[',m~s^{-1},']')\", file = \"paper/figures/return_periods_wind.pdf\"\n",
    ")"
   ]
  },
  {
   "cell_type": "code",
   "execution_count": null,
   "id": "4b7aebae-f9f2-4ca8-b56e-d04c9c501ae3",
   "metadata": {
    "vscode": {
     "languageId": "r"
    }
   },
   "outputs": [],
   "source": [
    "options(repr.plot.width = 15, repr.plot.height = 3)\n",
    "plot_hail_probs(gev_fits = gev_fits, file = \"paper/figures/hail_probs.pdf\")"
   ]
  },
  {
   "cell_type": "code",
   "execution_count": null,
   "id": "c86118b7",
   "metadata": {
    "vscode": {
     "languageId": "r"
    }
   },
   "outputs": [],
   "source": [
    "write_feather(gev_fits$hail_probs, \"results/hail_probs.feather\")\n",
    "write_feather(gev_fits$wind_probs, \"results/wind_probs.feather\")"
   ]
  },
  {
   "cell_type": "code",
   "execution_count": null,
   "id": "58ccd32c",
   "metadata": {
    "vscode": {
     "languageId": "r"
    }
   },
   "outputs": [],
   "source": [
    "gev_fits$wind_probs"
   ]
  },
  {
   "cell_type": "code",
   "execution_count": null,
   "id": "0c63d4f9",
   "metadata": {
    "vscode": {
     "languageId": "r"
    }
   },
   "outputs": [],
   "source": [
    "library(tables)\n",
    "probs <- gev_fits$hail_probs\n",
    "probs$domain = factor(probs$domain)\n",
    "probs$epoch <- factor(probs$epoch, levels = c(\"historic\", \"ssp245\"), labels = c(\"Historic\", \"SSP245\"))\n",
    "probs$diam <- factor(probs$diam, levels = c(20, 50, 100), labels = c(\"20 mm\", \"50 mm\", \"100 mm\"))\n",
    "tab <- tabular(\n",
    "    Heading(\"Domain\") * domain *\n",
    "        Heading(\"Epoch\") * epoch ~ Heading(\"Probability [\\\\%] by hail diameter\") * diam *\n",
    "        Heading() * p * Heading() * identity * Format(digits = 1),\n",
    "    data = probs,\n",
    ")\n",
    "t <- latexTable(tab,\n",
    "    caption = paste(\n",
    "        \"Probability of a hail day producing surface hail of various diameters, \",\n",
    "        \"by domain and epoch.\"\n",
    "    ),\n",
    "    label = \"hail_probs\"\n",
    ")\n",
    "# cat(t, file = \"paper/tables/hail_probs.tex\") # nolint\n",
    "tab"
   ]
  }
 ],
 "metadata": {
  "kernelspec": {
   "display_name": "R",
   "language": "R",
   "name": "ir"
  },
  "language_info": {
   "codemirror_mode": "r",
   "file_extension": ".r",
   "mimetype": "text/x-r-source",
   "name": "R",
   "pygments_lexer": "r",
   "version": "4.3.1"
  }
 },
 "nbformat": 4,
 "nbformat_minor": 5
}
