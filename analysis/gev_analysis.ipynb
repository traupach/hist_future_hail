{
 "cells": [
  {
   "cell_type": "markdown",
   "id": "145d0cd9-12e6-4670-a558-f60c2112876b",
   "metadata": {},
   "source": [
    "## Settings"
   ]
  },
  {
   "cell_type": "code",
   "execution_count": null,
   "id": "171cb280-a970-4771-80f4-f432e9203dc4",
   "metadata": {
    "vscode": {
     "languageId": "r"
    }
   },
   "outputs": [],
   "source": [
    "setwd(\"~/git/hist_future_hail/\") # Working directory.\n",
    "source(\"modules/gev_functions.R\") # Load helper functions.\n",
    "variables <- c(\"hailcast_diam_max\", \"wind_10m\") # Variables to process.\n",
    "results_dir <- \"/g/data/up6/tr2908/hist_future_hail/results/\" # Results directory.\n",
    "set.seed(42) # Random seed for reproducibility."
   ]
  },
  {
   "cell_type": "markdown",
   "id": "fd96ec0e",
   "metadata": {},
   "source": [
    "Set the time zone to UTC, otherwise times read in are all set to local time."
   ]
  },
  {
   "cell_type": "code",
   "execution_count": null,
   "id": "151bea50",
   "metadata": {
    "vscode": {
     "languageId": "r"
    }
   },
   "outputs": [],
   "source": [
    "Sys.setenv(TZ = \"GMT\")"
   ]
  },
  {
   "cell_type": "markdown",
   "id": "0b3334f4-1866-4013-a187-d5c1dcb49136",
   "metadata": {},
   "source": [
    "## Read in data"
   ]
  },
  {
   "cell_type": "code",
   "execution_count": null,
   "id": "fb81d5f0-1214-4063-b151-085b32acdf6c",
   "metadata": {
    "vscode": {
     "languageId": "r"
    }
   },
   "outputs": [],
   "source": [
    "maxes <- read_feathers(results_dir = results_dir, pattern = \"*_maxima.feather\")\n",
    "means <- read_feathers(results_dir = results_dir, pattern = \"*_means.feather\")\n"
   ]
  },
  {
   "cell_type": "markdown",
   "id": "b3aeed9e",
   "metadata": {
    "vscode": {
     "languageId": "r"
    }
   },
   "source": [
    "Convert wind speeds from m/s to km/h for analysis."
   ]
  },
  {
   "cell_type": "code",
   "execution_count": null,
   "id": "e29df665",
   "metadata": {
    "vscode": {
     "languageId": "r"
    }
   },
   "outputs": [],
   "source": [
    "maxes[\"wind_10m\"] <- maxes[\"wind_10m\"] * 3.6\n",
    "means[\"wind_10m\"] <- means[\"wind_10m\"] * 3.6"
   ]
  },
  {
   "cell_type": "markdown",
   "id": "10cda235",
   "metadata": {},
   "source": [
    "Set display order for epochs."
   ]
  },
  {
   "cell_type": "code",
   "execution_count": null,
   "id": "83effc24",
   "metadata": {
    "vscode": {
     "languageId": "r"
    }
   },
   "outputs": [],
   "source": [
    "maxes$epoch = factor(maxes$epoch, levels = c(\"ssp245\", \"historical\"))\n",
    "means$epoch = factor(means$epoch, levels = c(\"ssp245\", \"historical\"))"
   ]
  },
  {
   "cell_type": "markdown",
   "id": "2a745fc2-28f4-489d-a57e-c0982039bec2",
   "metadata": {},
   "source": [
    "## Timeseries of maxima\n",
    "\n",
    "First the timeseries of daily hail diameter maxima."
   ]
  },
  {
   "cell_type": "code",
   "execution_count": null,
   "id": "25481263-093b-4d6f-8d56-a6a85532606d",
   "metadata": {
    "vscode": {
     "languageId": "r"
    }
   },
   "outputs": [],
   "source": [
    "options(repr.plot.width = 13, repr.plot.height = 14)\n",
    "plot_ts(\n",
    "    dat = maxes, ylabel = \"Max daily hail diameter [mm]\", var = \"hailcast_diam_max\",\n",
    "    file = \"paper/supporting info/figures/timeseries_hail.pdf\"\n",
    ")\n"
   ]
  },
  {
   "cell_type": "code",
   "execution_count": null,
   "id": "798e64dd",
   "metadata": {
    "vscode": {
     "languageId": "r"
    }
   },
   "outputs": [],
   "source": [
    "plot_ts(\n",
    "    dat = maxes, ylabel = \"Max daily 10 m wind [km/h]\", var = \"wind_10m\",\n",
    "    file = \"paper/supporting info/figures/timeseries_wind.pdf\"\n",
    ")\n"
   ]
  },
  {
   "cell_type": "code",
   "execution_count": null,
   "id": "ef4ce82c",
   "metadata": {
    "vscode": {
     "languageId": "r"
    }
   },
   "outputs": [],
   "source": [
    "library(scales)\n",
    "show_col(rev(hue_pal()(2)))"
   ]
  },
  {
   "cell_type": "markdown",
   "id": "54d74eff",
   "metadata": {},
   "source": [
    "## Histograms of maxima"
   ]
  },
  {
   "cell_type": "code",
   "execution_count": null,
   "id": "91b5a5a4",
   "metadata": {
    "vscode": {
     "languageId": "r"
    }
   },
   "outputs": [],
   "source": [
    "fontsize <- 18\n",
    "options(repr.plot.width = 13, repr.plot.height = 6)\n",
    "\n",
    "maxes %>% ggplot(aes(x = hailcast_diam_max)) +\n",
    "    facet_wrap(~domain, ncol = 3, scales = \"free\") +\n",
    "    geom_histogram(aes(fill = epoch), alpha = 0.5, position = \"identity\", binwidth = 5) +\n",
    "    theme_bw(fontsize) +\n",
    "    scale_fill_manual(\n",
    "        name = \"Epoch\", breaks = c(\"historical\", \"ssp245\"),\n",
    "        labels = c(\"Historical\", \"Future\"), values = rev(hue_pal()(2))\n",
    "    ) +\n",
    "    labs(x = \"Daily max. hail diameter [mm]\", y = \"Count\") +\n",
    "    theme(strip.background = element_blank(), strip.text = element_text(size = fontsize))\n",
    "\n",
    "maxes %>% ggplot(aes(x = wind_10m)) +\n",
    "    facet_wrap(~domain, ncol = 3, scales = \"free\") +\n",
    "    geom_histogram(aes(fill = epoch), alpha = 0.5, position = \"identity\", binwidth = 5) +\n",
    "    theme_bw(fontsize) +\n",
    "    scale_fill_manual(\n",
    "        name = \"Epoch\", breaks = c(\"historical\", \"ssp245\"),\n",
    "        labels = c(\"Historical\", \"Future\"), values = rev(hue_pal()(2))\n",
    "    ) +\n",
    "    labs(x = expression(Daily ~ max. ~ hail * \"-\" * proximal ~ wind ~ group(\"[\", km ~ h^{\n",
    "        -1\n",
    "    }, \"]\")), y = \"Count\") +\n",
    "    theme(strip.background = element_blank(), strip.text = element_text(size = fontsize))\n"
   ]
  },
  {
   "cell_type": "markdown",
   "id": "3764ea57",
   "metadata": {
    "vscode": {
     "languageId": "r"
    }
   },
   "source": [
    "## Hail frequency changes\n"
   ]
  },
  {
   "cell_type": "code",
   "execution_count": null,
   "id": "937363da",
   "metadata": {
    "vscode": {
     "languageId": "r"
    }
   },
   "outputs": [],
   "source": [
    "day_changes = hail_day_changes(dat = maxes, out_file = \"paper/supporting info/tables/hail_freq_table.tex\")"
   ]
  },
  {
   "cell_type": "markdown",
   "id": "eca1a86c-73ae-4c59-a89f-b30aeb775181",
   "metadata": {},
   "source": [
    "## GEV fitting"
   ]
  },
  {
   "cell_type": "code",
   "execution_count": null,
   "id": "0b257240",
   "metadata": {
    "vscode": {
     "languageId": "r"
    }
   },
   "outputs": [],
   "source": [
    "require(lubridate)\n",
    "\n",
    "hist_dates = seq(ymd(\"1989-10-01\"), ymd(\"2009-02-28\"), by = \"days\")\n",
    "fut_dates = seq(ymd(\"2080-10-01\"), ymd(\"2100-02-28\"), by = \"days\")\n",
    "\n",
    "hist_dates = hist_dates[month(hist_dates) %in% c(10, 11, 12, 1, 2)]\n",
    "fut_dates = fut_dates[month(fut_dates) %in% c(10, 11, 12, 1, 2)]\n",
    "\n",
    "hist_dates = hist_dates[!(month(hist_dates) == 2 & day(hist_dates) == 29)]\n",
    "fut_dates = fut_dates[!(month(fut_dates) == 2 & day(fut_dates) == 29)]\n",
    "\n",
    "all_times = rbind(\n",
    "    tibble(time = hist_dates, epoch = \"historical\"),\n",
    "    tibble(time = fut_dates, epoch = \"ssp245\")\n",
    ")\n",
    "\n",
    "times = tibble()\n",
    "\n",
    "for (d in unique(maxes$domain)) {\n",
    "    times = rbind(times, cbind(all_times, list(domain = d)))\n",
    "}\n",
    "\n",
    "padded_maxes = full_join(maxes, times, by = c(\"epoch\", \"domain\", \"time\")) %>%\n",
    "    arrange(time) %>%\n",
    "    select(epoch, domain, time, hailcast_diam_max, wind_10m) %>%\n",
    "    mutate(\n",
    "        hailcast_diam_max = replace_na(hailcast_diam_max, 0),\n",
    "        wind_10m = replace_na(wind_10m, 0)\n",
    "    )"
   ]
  },
  {
   "cell_type": "code",
   "execution_count": null,
   "id": "6749f440",
   "metadata": {
    "vscode": {
     "languageId": "r"
    }
   },
   "outputs": [],
   "source": [
    "stopifnot(!any(maxes$wind_10m == 0))"
   ]
  },
  {
   "cell_type": "code",
   "execution_count": null,
   "id": "04a17f09",
   "metadata": {
    "vscode": {
     "languageId": "r"
    }
   },
   "outputs": [],
   "source": [
    "source(\"modules/gev_functions.R\")\n",
    "\n",
    "gp_thresholds = list(\"hailcast_diam_max\" = 20, \"wind_10m\" = NA)\n",
    "ev_types = list(\"hailcast_diam_max\" = \"GP\", \"wind_10m\" = \"GEV\")\n",
    "\n",
    "gev_fits <- fit_gevs(\n",
    "    all_dat = padded_maxes,\n",
    "    gp_thresholds = gp_thresholds,\n",
    "    ev_types = ev_types\n",
    ")"
   ]
  },
  {
   "cell_type": "markdown",
   "id": "af754f53",
   "metadata": {
    "vscode": {
     "languageId": "r"
    }
   },
   "source": [
    "Plot GEV curves for each domain and epoch."
   ]
  },
  {
   "cell_type": "code",
   "execution_count": null,
   "id": "03b7a33a",
   "metadata": {
    "vscode": {
     "languageId": "r"
    }
   },
   "outputs": [],
   "source": [
    "plot_densities(\n",
    "    gev_fits = gev_fits,\n",
    "    variable = \"hailcast_diam_max\",\n",
    "    ev_types = ev_types,\n",
    "    gp_thresholds = gp_thresholds,\n",
    "    label = \"Maximum~hail~diameter~group('[',mm,']')\",\n",
    "    file = \"paper/supporting info/figures/gev_dists_hail.pdf\"\n",
    ")\n"
   ]
  },
  {
   "cell_type": "code",
   "execution_count": null,
   "id": "d0d1aea1",
   "metadata": {
    "vscode": {
     "languageId": "r"
    }
   },
   "outputs": [],
   "source": [
    "plot_densities(\n",
    "    gev_fits = gev_fits,\n",
    "    variable = \"wind_10m\",\n",
    "    ev_types = ev_types,\n",
    "    x = seq(0, 100),\n",
    "    label = \"Maximum~wind~speed~group('[',km~h^{-1},']')\",\n",
    "    file = \"paper/supporting info/figures/gev_dists_wind.pdf\"\n",
    ")"
   ]
  },
  {
   "cell_type": "markdown",
   "id": "91a3e651",
   "metadata": {},
   "source": [
    "Plot parameters and their confidence intervals of each model in historic and ssp245 epochs; we consider two models significantly different if at least one parameter has non-overlapping confidence intervals."
   ]
  },
  {
   "cell_type": "code",
   "execution_count": null,
   "id": "77c25461",
   "metadata": {
    "vscode": {
     "languageId": "r"
    }
   },
   "outputs": [],
   "source": [
    "options(repr.plot.width = 15, repr.plot.height = 8)\n",
    "plot_params(gev_fits = gev_fits, file = \"paper/supporting info/figures/fit_params.pdf\")\n"
   ]
  },
  {
   "cell_type": "markdown",
   "id": "01da155a",
   "metadata": {},
   "source": [
    "We use the KS test to see whether a) the GEV model and training data are from different distributions, and b) whether the historic vs ssp245 models are considered significantly different. For each comparison we draw 1000 points from the modelled distribution(s) and do the KS test 100 times to get a distribution of p values. If most p values are below 0.05 then the null hypothesis that the two samples come from the same distribution can be rejected."
   ]
  },
  {
   "cell_type": "code",
   "execution_count": null,
   "id": "6964bba6-6e39-4602-a3e7-a19edba1227f",
   "metadata": {
    "vscode": {
     "languageId": "r"
    }
   },
   "outputs": [],
   "source": [
    "options(repr.plot.width = 15, repr.plot.height = 8)\n",
    "plot_ks_fits(gev_fits = gev_fits, file = \"paper/supporting info/figures/fit_pvals.pdf\")\n"
   ]
  },
  {
   "cell_type": "markdown",
   "id": "095ca1a6",
   "metadata": {
    "vscode": {
     "languageId": "r"
    }
   },
   "source": [
    "## Goodness of fit"
   ]
  },
  {
   "cell_type": "markdown",
   "id": "13d86d5b",
   "metadata": {},
   "source": [
    "QQ plots show goodness of fit between WRF-simulated and GEV-modelled values."
   ]
  },
  {
   "cell_type": "code",
   "execution_count": null,
   "id": "6a7d079a-224d-4657-95f2-e4b36dbfdd2d",
   "metadata": {
    "vscode": {
     "languageId": "r"
    }
   },
   "outputs": [],
   "source": [
    "options(repr.plot.width = 15, repr.plot.height = 7)\n",
    "plot_quantiles(\n",
    "    gev_fits = gev_fits, var = \"hailcast_diam_max\", unit = \"mm\",\n",
    "    file = \"paper/supporting info/figures/qq_hail.pdf\"\n",
    ")\n"
   ]
  },
  {
   "cell_type": "code",
   "execution_count": null,
   "id": "afc8b7d8-7928-455d-b9a3-02b8fb4da3d0",
   "metadata": {
    "vscode": {
     "languageId": "r"
    }
   },
   "outputs": [],
   "source": [
    "plot_quantiles(\n",
    "    gev_fits = gev_fits, var = \"wind_10m\", unit = \"km~h^{-1}\",\n",
    "    file = \"paper/supporting info/figures/qq_wind.pdf\"\n",
    ")\n"
   ]
  },
  {
   "cell_type": "markdown",
   "id": "91236a5f",
   "metadata": {
    "vscode": {
     "languageId": "r"
    }
   },
   "source": [
    "## Return periods\n",
    "\n",
    "Return periods in number of hail days (extRemes always says number of years but assumes each maxima is an annual maxima). Note return levels may be nonphysical for long return periods."
   ]
  },
  {
   "cell_type": "code",
   "execution_count": null,
   "id": "165915bf",
   "metadata": {
    "vscode": {
     "languageId": "r"
    }
   },
   "outputs": [],
   "source": [
    "options(repr.plot.width = 15, repr.plot.height = 8)\n",
    "plot_return_levels(\n",
    "    gev_fits = gev_fits,\n",
    "    file = \"paper/main/figures/return_periods.pdf\"\n",
    ")"
   ]
  },
  {
   "cell_type": "markdown",
   "id": "61cd67ea",
   "metadata": {},
   "source": [
    "## Threshold exceedence probabilities\n",
    "\n",
    "Look at probabilities of given levels occurring in a given hail day."
   ]
  },
  {
   "cell_type": "code",
   "execution_count": null,
   "id": "240cfc01",
   "metadata": {
    "vscode": {
     "languageId": "r"
    }
   },
   "outputs": [],
   "source": [
    "ret_periods <- rbind(\n",
    "    periods_for_thresholds(gev_fits = gev_fits, var = \"hailcast_diam_max\", thresh = c(50, 100)),\n",
    "    periods_for_thresholds(gev_fits = gev_fits, var = \"wind_10m\", thresh = c(70, 90))\n",
    ")\n",
    "\n",
    "write_feather(ret_periods, \"results/return_periods.feather\")"
   ]
  },
  {
   "cell_type": "code",
   "execution_count": null,
   "id": "feb874f7",
   "metadata": {
    "vscode": {
     "languageId": "r"
    }
   },
   "outputs": [],
   "source": [
    "ret_periods$threshold = factor(ret_periods$threshold, levels=c(50, 100, 70, 90))\n",
    "ret_periods$epoch = factor(ret_periods$epoch, levels=c(\"historical\", \"ssp245\"), labels=c(\"Historical\", \"Future\"))\n",
    "tab = tabular(Factor(domain) * Factor(epoch) ~ Factor(threshold) * identity * period, data = ret_periods)\n",
    "toLatex(tab, file=\"paper/supporting info/tables/return_periods_table.tex\")"
   ]
  },
  {
   "cell_type": "code",
   "execution_count": null,
   "id": "4b7aebae-f9f2-4ca8-b56e-d04c9c501ae3",
   "metadata": {
    "vscode": {
     "languageId": "r"
    }
   },
   "outputs": [],
   "source": [
    "options(repr.plot.width = 15, repr.plot.height = 6)\n",
    "plot_probs(gev_fits = gev_fits, file = \"paper/main/figures/threshold_probs.pdf\")\n"
   ]
  },
  {
   "cell_type": "code",
   "execution_count": null,
   "id": "c86118b7",
   "metadata": {
    "vscode": {
     "languageId": "r"
    }
   },
   "outputs": [],
   "source": [
    "# Write outputs for display in paper.\n",
    "write_feather(gev_fits$hail_probs, \"results/hail_probs.feather\")\n",
    "write_feather(gev_fits$wind_probs, \"results/wind_probs.feather\")\n"
   ]
  },
  {
   "cell_type": "markdown",
   "id": "ecda83ba",
   "metadata": {},
   "source": [
    "Show tables of probabilities for given levels."
   ]
  },
  {
   "cell_type": "code",
   "execution_count": null,
   "id": "0c63d4f9",
   "metadata": {
    "vscode": {
     "languageId": "r"
    }
   },
   "outputs": [],
   "source": [
    "probabilities_table(gev_fits = gev_fits, out_file = \"paper/supporting info/tables/probabilities_table.tex\")\n"
   ]
  },
  {
   "cell_type": "markdown",
   "id": "0755811b",
   "metadata": {
    "vscode": {
     "languageId": "r"
    }
   },
   "source": [
    "## Changes in ingredients"
   ]
  },
  {
   "cell_type": "code",
   "execution_count": null,
   "id": "b2b7235c",
   "metadata": {
    "vscode": {
     "languageId": "r"
    }
   },
   "outputs": [],
   "source": [
    "ing_changes = ingredients_changes(ings = means)\n",
    "max_changes = ingredients_changes(ings = maxes)"
   ]
  },
  {
   "cell_type": "markdown",
   "id": "3821e7db",
   "metadata": {},
   "source": [
    "Include hail frequency and max hail size changes in the ingredients changes table."
   ]
  },
  {
   "cell_type": "code",
   "execution_count": null,
   "id": "ebc50011",
   "metadata": {
    "vscode": {
     "languageId": "r"
    }
   },
   "outputs": [],
   "source": [
    "ing_changes <- rbind(\n",
    "    day_changes$t_test_disp %>%\n",
    "        select(!starts_with(\"mean\")) %>%\n",
    "        select(!starts_with(\"sd\")) %>%\n",
    "        mutate(variable = \"Hail days\"),\n",
    "    max_changes %>%\n",
    "        filter(variable == \"Hail size\") %>%\n",
    "        mutate(variable = \"Max hail\"),\n",
    "    ing_changes %>%\n",
    "        filter(variable == \"Hail size\") %>%\n",
    "        mutate(variable = \"Mean hail\"),\n",
    "    max_changes %>%\n",
    "        filter(variable == \"Wind\") %>%\n",
    "        mutate(variable = \"Max wind\"),\n",
    "    ing_changes %>%\n",
    "        filter(variable == \"Wind\") %>%\n",
    "        mutate(variable = \"Mean wind\"),\n",
    "    ing_changes %>%\n",
    "        filter(variable != \"Hail size\") %>%\n",
    "        filter(variable != \"Wind\")\n",
    ")\n"
   ]
  },
  {
   "cell_type": "markdown",
   "id": "72f4abb9",
   "metadata": {
    "vscode": {
     "languageId": "r"
    }
   },
   "source": [
    "Split latex table into two."
   ]
  },
  {
   "cell_type": "code",
   "execution_count": null,
   "id": "632e7a9d",
   "metadata": {
    "vscode": {
     "languageId": "r"
    }
   },
   "outputs": [],
   "source": [
    "ing_table_1 = ing_changes %>% filter(domain %in% c(\"Adelaide\", \"Brisbane\", \"Kalgoorlie\"))\n",
    "ing_table_2 <- ing_changes %>% filter(!(domain %in% c(\"Adelaide\", \"Brisbane\", \"Kalgoorlie\")))\n",
    "\n",
    "tab <- tabular(Factor(variable) ~ Heading() * identity * Heading() * Factor(domain) * Heading() *\n",
    "                   (rel_change + sig + change_range), data = ing_table_1)\n",
    "print(toLatex(tab, file = \"paper/main/tables/ingredients_1.tex\"))\n",
    "\n",
    "tab <- tabular(Factor(variable) ~ Heading() * identity * Heading() * Factor(domain) * Heading() *\n",
    "                   (rel_change + sig + change_range), data = ing_table_2)\n",
    "print(toLatex(tab, file = \"paper/main/tables/ingredients_2.tex\"))\n",
    "\n",
    "tab <- tabular(Factor(variable) ~ Heading() * identity * Heading() * Factor(domain) * Heading() *\n",
    "                   (Format(digits = 1) * historic), data = ing_changes)\n",
    "print(toLatex(tab, file = \"paper/supporting info/tables/historic_means.tex\"))\n",
    "\n",
    "write_feather(ing_changes, \"results/ingredient_changes.feather\")"
   ]
  },
  {
   "cell_type": "markdown",
   "id": "df758eae",
   "metadata": {
    "vscode": {
     "languageId": "r"
    }
   },
   "source": [
    "Plot correlations between variables at different cities."
   ]
  },
  {
   "cell_type": "code",
   "execution_count": null,
   "id": "d8922c8b",
   "metadata": {
    "vscode": {
     "languageId": "r"
    }
   },
   "outputs": [],
   "source": [
    "options(repr.plot.width = 15, repr.plot.height = 10)\n",
    "domain_correlation_plot(means, plot_file = \"paper/main/figures/correlations.pdf\")"
   ]
  }
 ],
 "metadata": {
  "kernelspec": {
   "display_name": "R",
   "language": "R",
   "name": "ir"
  },
  "language_info": {
   "codemirror_mode": "r",
   "file_extension": ".r",
   "mimetype": "text/x-r-source",
   "name": "R",
   "pygments_lexer": "r",
   "version": "4.3.1"
  }
 },
 "nbformat": 4,
 "nbformat_minor": 5
}
